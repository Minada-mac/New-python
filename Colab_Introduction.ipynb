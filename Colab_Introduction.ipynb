{
  "nbformat": 4,
  "nbformat_minor": 0,
  "metadata": {
    "colab": {
      "provenance": [],
      "authorship_tag": "ABX9TyPuB3IH1SvmFKmig8WJJF/9",
      "include_colab_link": true
    },
    "kernelspec": {
      "name": "python3",
      "display_name": "Python 3"
    },
    "language_info": {
      "name": "python"
    }
  },
  "cells": [
    {
      "cell_type": "markdown",
      "metadata": {
        "id": "view-in-github",
        "colab_type": "text"
      },
      "source": [
        "<a href=\"https://colab.research.google.com/github/Minada-mac/New-python/blob/main/Colab_Introduction.ipynb\" target=\"_parent\"><img src=\"https://colab.research.google.com/assets/colab-badge.svg\" alt=\"Open In Colab\"/></a>"
      ]
    },
    {
      "cell_type": "markdown",
      "source": [
        "**This Tutorial includes: Syntax-Comments-Variables**"
      ],
      "metadata": {
        "id": "kEcvC3GNenSH"
      }
    },
    {
      "cell_type": "markdown",
      "source": [
        "# **Python Syntax**"
      ],
      "metadata": {
        "id": "cp6mdNm_e6tt"
      }
    },
    {
      "cell_type": "code",
      "execution_count": null,
      "metadata": {
        "colab": {
          "base_uri": "https://localhost:8080/"
        },
        "id": "ZtEdj28KHmc6",
        "outputId": "80c11722-f916-465b-9104-8b2599ca63d7"
      },
      "outputs": [
        {
          "output_type": "stream",
          "name": "stdout",
          "text": [
            "Hello, World!\n"
          ]
        }
      ],
      "source": [
        "print('Hello, World!')"
      ]
    },
    {
      "cell_type": "markdown",
      "source": [
        "# ***Title*** ⏰"
      ],
      "metadata": {
        "id": "3ps0UsU5_KVp"
      }
    },
    {
      "cell_type": "markdown",
      "source": [
        "# **How Python Code Gets Executed **\n",
        "\n",
        "Python Executer run our code line by line from the top."
      ],
      "metadata": {
        "id": "kkAleXciC3L0"
      }
    },
    {
      "cell_type": "code",
      "source": [
        "print(\"Introduction to computers\")\n",
        "\n",
        "print('o----')\n",
        "\n",
        "print(' ||||')"
      ],
      "metadata": {
        "colab": {
          "base_uri": "https://localhost:8080/"
        },
        "id": "KD0aKtnzAiGK",
        "outputId": "bf8b1428-f6bc-4ab8-fe10-c313c71ef8cb"
      },
      "execution_count": null,
      "outputs": [
        {
          "output_type": "stream",
          "name": "stdout",
          "text": [
            "Introduction to computers\n",
            "o----\n",
            " ||||\n"
          ]
        }
      ]
    },
    {
      "cell_type": "code",
      "source": [
        "print(\"Introduction to computers\")\n",
        "\n",
        "print('o----')\n",
        "\n",
        "print(' ||||')\n",
        "\n",
        "print('*' * 10)"
      ],
      "metadata": {
        "colab": {
          "base_uri": "https://localhost:8080/"
        },
        "id": "RI2y5ZHhB76X",
        "outputId": "53086242-a145-4ad7-e6dc-d1fecd4d650f"
      },
      "execution_count": null,
      "outputs": [
        {
          "output_type": "stream",
          "name": "stdout",
          "text": [
            "Introduction to computers\n",
            "o----\n",
            " ||||\n",
            "**********\n"
          ]
        }
      ]
    },
    {
      "cell_type": "code",
      "source": [
        "price = 10\n",
        "print(price)"
      ],
      "metadata": {
        "colab": {
          "base_uri": "https://localhost:8080/"
        },
        "id": "BsLoUmCtMXyT",
        "outputId": "d7028634-0301-4278-ce33-f2068ea96691"
      },
      "execution_count": null,
      "outputs": [
        {
          "output_type": "stream",
          "name": "stdout",
          "text": [
            "10\n"
          ]
        }
      ]
    },
    {
      "cell_type": "code",
      "source": [
        "price = 10\n",
        "price = 20\n",
        "print(price)"
      ],
      "metadata": {
        "colab": {
          "base_uri": "https://localhost:8080/"
        },
        "id": "rbS3F7OfMRax",
        "outputId": "9233b56b-a345-4e40-9e83-ca1ab28c5a70"
      },
      "execution_count": null,
      "outputs": [
        {
          "output_type": "stream",
          "name": "stdout",
          "text": [
            "20\n"
          ]
        }
      ]
    },
    {
      "cell_type": "markdown",
      "source": [
        "# **Python Indentation**\n",
        "\n",
        "Indentation refers to the spaces at the beginning of a code line.\n",
        "\n",
        "Where in other programming languages the indentation in code is for readability only, the indentation in Python is very important.\n",
        "\n",
        "Python uses indentation to indicate a block of code.\n",
        "\n",
        "Example:"
      ],
      "metadata": {
        "id": "_ZKdQQ-cXOWT"
      }
    },
    {
      "cell_type": "code",
      "source": [
        "if 5 > 2:\n",
        "  print(\"Five is greater than two!\")"
      ],
      "metadata": {
        "colab": {
          "base_uri": "https://localhost:8080/"
        },
        "id": "NHwbQTbjXb8u",
        "outputId": "fdfed3f1-081e-4867-ef73-b7a04ae6715a"
      },
      "execution_count": null,
      "outputs": [
        {
          "output_type": "stream",
          "name": "stdout",
          "text": [
            "Five is greater than two!\n"
          ]
        }
      ]
    },
    {
      "cell_type": "markdown",
      "source": [
        "Python will give you an error if you skip the indentation:\n",
        "\n",
        "Example\n",
        "Syntax Error:"
      ],
      "metadata": {
        "id": "I6vnGbDpXj0q"
      }
    },
    {
      "cell_type": "code",
      "source": [
        "if 5 > 2:\n",
        "print(\"Five is greater than two!\")"
      ],
      "metadata": {
        "colab": {
          "base_uri": "https://localhost:8080/",
          "height": 108
        },
        "id": "A1Dhc0MmXmJP",
        "outputId": "40f13cd4-adf9-4b7d-94d8-f2b3fc515e47"
      },
      "execution_count": null,
      "outputs": [
        {
          "output_type": "error",
          "ename": "IndentationError",
          "evalue": "expected an indented block after 'if' statement on line 1 (<ipython-input-37-a314491c53bb>, line 2)",
          "traceback": [
            "\u001b[0;36m  File \u001b[0;32m\"<ipython-input-37-a314491c53bb>\"\u001b[0;36m, line \u001b[0;32m2\u001b[0m\n\u001b[0;31m    print(\"Five is greater than two!\")\u001b[0m\n\u001b[0m    ^\u001b[0m\n\u001b[0;31mIndentationError\u001b[0m\u001b[0;31m:\u001b[0m expected an indented block after 'if' statement on line 1\n"
          ]
        }
      ]
    },
    {
      "cell_type": "markdown",
      "source": [
        "The number of spaces is up to you as a programmer, the most common use is four, but it has to be at least one.\n",
        "\n",
        "Example:"
      ],
      "metadata": {
        "id": "79-AwthnX19S"
      }
    },
    {
      "cell_type": "code",
      "source": [
        "if 5 > 2:\n",
        " print(\"Five is greater than two!\")\n",
        "if 5 > 2:\n",
        "        print(\"Five is greater than two!\")\n"
      ],
      "metadata": {
        "colab": {
          "base_uri": "https://localhost:8080/"
        },
        "id": "hMN09PcSX43J",
        "outputId": "2474b5ea-048e-4c6c-9aa6-7a71838ed842"
      },
      "execution_count": null,
      "outputs": [
        {
          "output_type": "stream",
          "name": "stdout",
          "text": [
            "Five is greater than two!\n",
            "Five is greater than two!\n"
          ]
        }
      ]
    },
    {
      "cell_type": "markdown",
      "source": [
        "You have to use the same number of spaces in the same block of code, otherwise Python will give you an error:\n",
        "\n",
        "Example\n",
        "Syntax Error:"
      ],
      "metadata": {
        "id": "8y9fxC8HYDsp"
      }
    },
    {
      "cell_type": "code",
      "source": [
        "if 5 > 2:\n",
        " print(\"Five is greater than two!\")\n",
        "        print(\"Five is greater than two!\")"
      ],
      "metadata": {
        "colab": {
          "base_uri": "https://localhost:8080/",
          "height": 108
        },
        "id": "1KG1PJUdYF4F",
        "outputId": "4f4c3dc4-f8eb-4b9a-ffa9-a01b4b842a33"
      },
      "execution_count": null,
      "outputs": [
        {
          "output_type": "error",
          "ename": "IndentationError",
          "evalue": "unexpected indent (<ipython-input-41-a4dba24e2a47>, line 3)",
          "traceback": [
            "\u001b[0;36m  File \u001b[0;32m\"<ipython-input-41-a4dba24e2a47>\"\u001b[0;36m, line \u001b[0;32m3\u001b[0m\n\u001b[0;31m    print(\"Five is greater than two!\")\u001b[0m\n\u001b[0m    ^\u001b[0m\n\u001b[0;31mIndentationError\u001b[0m\u001b[0;31m:\u001b[0m unexpected indent\n"
          ]
        }
      ]
    },
    {
      "cell_type": "markdown",
      "source": [
        "# **Python Comments**\n",
        "Comments can be used to explain Python code.\n",
        "\n",
        "Comments can be used to make the code more readable.\n",
        "\n",
        "Comments can be used to prevent execution when testing code.\n",
        "\n",
        "Creating a Comment\n",
        "Comments starts with a #, and Python will ignore them:\n",
        "\n",
        "Example:"
      ],
      "metadata": {
        "id": "gmjAbbIoYU72"
      }
    },
    {
      "cell_type": "code",
      "source": [
        "#This is a comment\n",
        "print(\"Hello, World!\")"
      ],
      "metadata": {
        "colab": {
          "base_uri": "https://localhost:8080/"
        },
        "id": "udQqULRpYYRJ",
        "outputId": "1bd0822e-a2a3-49f7-9340-d775a09ca701"
      },
      "execution_count": null,
      "outputs": [
        {
          "output_type": "stream",
          "name": "stdout",
          "text": [
            "Hello, World!\n"
          ]
        }
      ]
    },
    {
      "cell_type": "markdown",
      "source": [
        "Comments can be placed at the end of a line, and Python will ignore the rest of the line:\n",
        "\n",
        "Example"
      ],
      "metadata": {
        "id": "IU5k_G6wYj0Y"
      }
    },
    {
      "cell_type": "code",
      "source": [
        "print(\"Hello, World!\") #This is a comment"
      ],
      "metadata": {
        "colab": {
          "base_uri": "https://localhost:8080/"
        },
        "id": "DG7O7FXZYl8y",
        "outputId": "f78eda72-7227-4d5c-bc13-d2df8cf32ef9"
      },
      "execution_count": null,
      "outputs": [
        {
          "output_type": "stream",
          "name": "stdout",
          "text": [
            "Hello, World!\n"
          ]
        }
      ]
    },
    {
      "cell_type": "markdown",
      "source": [
        "A comment does not have to be text that explains the code, it can also be used to prevent Python from executing code:\n",
        "\n",
        "Example:"
      ],
      "metadata": {
        "id": "NBFVfwdiY1KJ"
      }
    },
    {
      "cell_type": "code",
      "source": [
        "#print(\"Hello, World!\")\n",
        "print(\"Cheers, Mate!\")"
      ],
      "metadata": {
        "colab": {
          "base_uri": "https://localhost:8080/"
        },
        "id": "nWfLcGVEY3gV",
        "outputId": "a081b2e5-fec2-4c7f-faed-270c3165c507"
      },
      "execution_count": null,
      "outputs": [
        {
          "output_type": "stream",
          "name": "stdout",
          "text": [
            "Cheers, Mate!\n"
          ]
        }
      ]
    },
    {
      "cell_type": "markdown",
      "source": [
        "Multiline Comments\n",
        "Python does not really have a syntax for multiline comments.\n",
        "\n",
        "To add a multiline comment you could insert a # for each line:\n",
        "\n",
        "Example:"
      ],
      "metadata": {
        "id": "5nuV2o2lZYqF"
      }
    },
    {
      "cell_type": "code",
      "source": [
        "#This is a comment\n",
        "#written in\n",
        "#more than just one line\n",
        "print(\"Hello, World!\")"
      ],
      "metadata": {
        "colab": {
          "base_uri": "https://localhost:8080/"
        },
        "id": "PUsoaUEQZatK",
        "outputId": "c0eed670-809d-486b-d71e-7e831674c43a"
      },
      "execution_count": null,
      "outputs": [
        {
          "output_type": "stream",
          "name": "stdout",
          "text": [
            "Hello, World!\n"
          ]
        }
      ]
    },
    {
      "cell_type": "markdown",
      "source": [
        "Since Python will ignore string literals that are not assigned to a variable, you can add a multiline string (triple quotes) in your code, and place your comment inside it:\n",
        "\n",
        "Example:"
      ],
      "metadata": {
        "id": "jSAZ_qKuZkdj"
      }
    },
    {
      "cell_type": "code",
      "source": [
        "\"\"\"\n",
        "This is a comment\n",
        "written in\n",
        "more than just one line\n",
        "\"\"\"\n",
        "print(\"Hello, World!\")"
      ],
      "metadata": {
        "colab": {
          "base_uri": "https://localhost:8080/"
        },
        "id": "cQfjYMnIZmcW",
        "outputId": "da42f4a3-942a-44a6-a84b-778bd1ad2221"
      },
      "execution_count": null,
      "outputs": [
        {
          "output_type": "stream",
          "name": "stdout",
          "text": [
            "Hello, World!\n"
          ]
        }
      ]
    },
    {
      "cell_type": "markdown",
      "source": [
        "# **Variables in Python**\n",
        "\n",
        "Variables are containers for storing data values."
      ],
      "metadata": {
        "id": "4sd4O3J7ZSrZ"
      }
    },
    {
      "cell_type": "markdown",
      "source": [
        "**Creating Variables**\n",
        "\n",
        "Python has no command for declaring a variable.\n",
        "\n",
        "A variable is created the moment you first assign a value to it."
      ],
      "metadata": {
        "id": "uIFpjwLEFnCg"
      }
    },
    {
      "cell_type": "code",
      "source": [
        "x = 5\n",
        "y = \"John\"\n",
        "print(x)\n",
        "print(y)"
      ],
      "metadata": {
        "colab": {
          "base_uri": "https://localhost:8080/"
        },
        "id": "Jwsm2C3HFdeV",
        "outputId": "a9ffc67e-efc3-4b4a-a8e9-a7cfd80514bb"
      },
      "execution_count": null,
      "outputs": [
        {
          "output_type": "stream",
          "name": "stdout",
          "text": [
            "5\n",
            "John\n"
          ]
        }
      ]
    },
    {
      "cell_type": "markdown",
      "source": [
        "Variables do not need to be declared with any particular type, and can even change type after they have been set."
      ],
      "metadata": {
        "id": "57bT28ZgF3Yr"
      }
    },
    {
      "cell_type": "code",
      "source": [
        "x = 4       # x is of type int\n",
        "x = \"Sally\" # x is now of type str\n",
        "print(x)"
      ],
      "metadata": {
        "id": "H3XQXPQiF1yE",
        "colab": {
          "base_uri": "https://localhost:8080/"
        },
        "outputId": "a5129dce-5049-47fa-ec58-5e85d2411f46"
      },
      "execution_count": null,
      "outputs": [
        {
          "output_type": "stream",
          "name": "stdout",
          "text": [
            "Sally\n"
          ]
        }
      ]
    },
    {
      "cell_type": "markdown",
      "source": [
        "**Casting**\n",
        "\n",
        "If you want to specify the data type of a variable, this can be done with casting."
      ],
      "metadata": {
        "id": "2c53ZyytGP6G"
      }
    },
    {
      "cell_type": "code",
      "source": [
        "x = str(3)    # x will be '3'\n",
        "y = int(3)    # y will be 3\n",
        "z = float(3)  # z will be 3.0\n",
        "\n",
        "print(x)\n",
        "print(y)\n",
        "print(z)"
      ],
      "metadata": {
        "colab": {
          "base_uri": "https://localhost:8080/"
        },
        "id": "zfIOngd_GTr7",
        "outputId": "2ed3e370-9690-4a71-e070-40fdbfe10755"
      },
      "execution_count": null,
      "outputs": [
        {
          "output_type": "stream",
          "name": "stdout",
          "text": [
            "3\n",
            "3\n",
            "3.0\n"
          ]
        }
      ]
    },
    {
      "cell_type": "markdown",
      "source": [
        "**Get the Type**\n",
        "\n",
        "You can get the data type of a variable with the type() function."
      ],
      "metadata": {
        "id": "L8tdyLcbGtTM"
      }
    },
    {
      "cell_type": "code",
      "source": [
        "x = 5\n",
        "y = \"John\"\n",
        "print(type(x))\n",
        "print(type(y))"
      ],
      "metadata": {
        "colab": {
          "base_uri": "https://localhost:8080/"
        },
        "id": "w_jJnPnmGsCk",
        "outputId": "c7947964-6fbe-4102-b4ca-ae1de23533f1"
      },
      "execution_count": null,
      "outputs": [
        {
          "output_type": "stream",
          "name": "stdout",
          "text": [
            "<class 'int'>\n",
            "<class 'str'>\n"
          ]
        }
      ]
    },
    {
      "cell_type": "markdown",
      "source": [
        "**Single or Double Quotes?**\n",
        "\n",
        "String variables can be declared either by using single or double quotes:"
      ],
      "metadata": {
        "id": "iGhfp6NKHUmu"
      }
    },
    {
      "cell_type": "code",
      "source": [
        "x = \"John\"\n",
        "print(x)\n",
        "#double quotes are the same as single quotes:\n",
        "x = 'John'\n",
        "print(x)"
      ],
      "metadata": {
        "colab": {
          "base_uri": "https://localhost:8080/"
        },
        "id": "kUeKVtcNGsL9",
        "outputId": "90c1539a-9748-4c4b-8824-3c6a435154f1"
      },
      "execution_count": null,
      "outputs": [
        {
          "output_type": "stream",
          "name": "stdout",
          "text": [
            "John\n",
            "John\n"
          ]
        }
      ]
    },
    {
      "cell_type": "markdown",
      "source": [
        "**Case-Sensitive**\n",
        "\n",
        "Variable names are case-sensitive.\n",
        "\n",
        "This will create two variables:"
      ],
      "metadata": {
        "id": "7WeWrTNPH5Kc"
      }
    },
    {
      "cell_type": "code",
      "source": [
        "a = 4\n",
        "A = \"Sally\"\n",
        "#A will not overwrite a\n",
        "print(a)\n",
        "print(A)"
      ],
      "metadata": {
        "colab": {
          "base_uri": "https://localhost:8080/"
        },
        "id": "ApxhYwueGsSt",
        "outputId": "99cc1132-4762-4dca-ffe3-bbbb9bdcd6b1"
      },
      "execution_count": null,
      "outputs": [
        {
          "output_type": "stream",
          "name": "stdout",
          "text": [
            "4\n",
            "Sally\n"
          ]
        }
      ]
    },
    {
      "cell_type": "markdown",
      "source": [
        "# **Variable Names**\n",
        "A variable can have a short name (like x and y) or a more descriptive name (age, carname, total_volume). Rules for Python variables:\n",
        "\n",
        "A variable name must start with a letter or the underscore character\n",
        "\n",
        "A variable name cannot start with a number\n",
        "\n",
        "A variable name can only contain alpha-numeric characters and underscores (A-z, 0-9, and _ )\n",
        "\n",
        "Variable names are case-sensitive (age, Age and AGE are three different variables)\n",
        "\n",
        "A variable name cannot be any of the Python keywords(and, as, else, elif, import, etc).\n",
        "\n",
        "Example of **Legal variable names**:"
      ],
      "metadata": {
        "id": "Y4h-SblJIhfM"
      }
    },
    {
      "cell_type": "code",
      "source": [
        "myvar = \"John\"\n",
        "my_var = \"John\"\n",
        "_my_var = \"John\"\n",
        "myVar = \"John\"\n",
        "MYVAR = \"John\"\n",
        "myvar2 = \"John\"\n",
        "\n",
        "\n",
        "print(myvar)\n",
        "print(my_var)\n",
        "print(_my_var)\n",
        "print(myVar)\n",
        "print(MYVAR)\n",
        "print(myvar2)\n"
      ],
      "metadata": {
        "colab": {
          "base_uri": "https://localhost:8080/"
        },
        "id": "s6hscMfJEMxt",
        "outputId": "6daaaa98-3db0-49c3-b4ed-a579ec5345c7"
      },
      "execution_count": null,
      "outputs": [
        {
          "output_type": "stream",
          "name": "stdout",
          "text": [
            "John\n",
            "John\n",
            "John\n",
            "John\n",
            "John\n",
            "John\n"
          ]
        }
      ]
    },
    {
      "cell_type": "markdown",
      "source": [
        "\n",
        "**Illegal variable names:**\n",
        "\n",
        "#This example will produce an error in the result\n"
      ],
      "metadata": {
        "id": "d3OLvj-9LrnR"
      }
    },
    {
      "cell_type": "code",
      "source": [
        "2myvar = \"John\"\n",
        "my-var = \"John\"\n",
        "my var = \"John\"\n",
        "\n"
      ],
      "metadata": {
        "colab": {
          "base_uri": "https://localhost:8080/",
          "height": 108
        },
        "id": "NfnS0cp4JHCe",
        "outputId": "f30f724f-c703-412c-fbc9-5fdb51cc7c5b"
      },
      "execution_count": null,
      "outputs": [
        {
          "output_type": "error",
          "ename": "SyntaxError",
          "evalue": "invalid decimal literal (<ipython-input-22-a6a85c9660e1>, line 1)",
          "traceback": [
            "\u001b[0;36m  File \u001b[0;32m\"<ipython-input-22-a6a85c9660e1>\"\u001b[0;36m, line \u001b[0;32m1\u001b[0m\n\u001b[0;31m    2myvar = \"John\"\u001b[0m\n\u001b[0m    ^\u001b[0m\n\u001b[0;31mSyntaxError\u001b[0m\u001b[0;31m:\u001b[0m invalid decimal literal\n"
          ]
        }
      ]
    },
    {
      "cell_type": "markdown",
      "source": [
        "# **Multi Words Variable Names**\n",
        "\n",
        "Variable names with more than one word can be difficult to read.\n",
        "\n",
        "There are several techniques you can use to make them more readable:\n",
        "\n",
        "\n",
        "Camel Case\n",
        "\n",
        "Each word, except the first, starts with a capital letter:\n",
        "\n",
        "**myVariableName = \"John\"**\n",
        "\n",
        "\n",
        "Pascal Case\n",
        "\n",
        "Each word starts with a capital letter:\n",
        "\n",
        "**MyVariableName = \"John\"**\n",
        "\n",
        "\n",
        "Snake Case\n",
        "\n",
        "Each word is separated by an underscore character:\n",
        "\n",
        "**my_variable_name = \"John\"**"
      ],
      "metadata": {
        "id": "ypVxTq1ENGc0"
      }
    },
    {
      "cell_type": "markdown",
      "source": [
        "# **Python Variables - Assign Multiple Values**\n",
        "\n",
        "Many Values to Multiple Variables\n",
        "Python allows you to assign values to multiple variables in one line:\n",
        "\n",
        "Example:\n"
      ],
      "metadata": {
        "id": "WuJS89BDOkDM"
      }
    },
    {
      "cell_type": "code",
      "source": [
        "x, y, z = \"Orange\", \"Banana\", \"Cherry\"\n",
        "print(x)\n",
        "print(y)\n",
        "print(z)"
      ],
      "metadata": {
        "colab": {
          "base_uri": "https://localhost:8080/"
        },
        "id": "FgjaKdnWOLrd",
        "outputId": "681b8e9b-8fdf-4e94-f8d1-44baec315958"
      },
      "execution_count": null,
      "outputs": [
        {
          "output_type": "stream",
          "name": "stdout",
          "text": [
            "Orange\n",
            "Banana\n",
            "Cherry\n"
          ]
        }
      ]
    },
    {
      "cell_type": "markdown",
      "source": [
        "**Unpack a Collection**\n",
        "\n",
        "If you have a collection of values in a list, Python allows you to extract the values into variables. This is called unpacking.\n",
        "\n",
        "Example Unpack a list:"
      ],
      "metadata": {
        "id": "yG-wHIQMPj1J"
      }
    },
    {
      "cell_type": "code",
      "source": [
        "fruits = [\"apple\", \"banana\", \"cherry\"]\n",
        "x, y, z = fruits\n",
        "print(x)\n",
        "print(y)\n",
        "print(z)"
      ],
      "metadata": {
        "colab": {
          "base_uri": "https://localhost:8080/"
        },
        "id": "poFBjL0rOy-p",
        "outputId": "fe0d5bec-eb47-423d-eb01-324a3e749576"
      },
      "execution_count": null,
      "outputs": [
        {
          "output_type": "stream",
          "name": "stdout",
          "text": [
            "apple\n",
            "banana\n",
            "cherry\n"
          ]
        }
      ]
    },
    {
      "cell_type": "markdown",
      "source": [
        "# **Python-Output Variables**\n",
        "\n",
        "The Python print() function is often used to output variables.\n",
        "\n",
        "Example:\n"
      ],
      "metadata": {
        "id": "LBNHpjWdR3qs"
      }
    },
    {
      "cell_type": "code",
      "source": [
        "x = \"Python is awesome\"\n",
        "print(x)"
      ],
      "metadata": {
        "colab": {
          "base_uri": "https://localhost:8080/"
        },
        "id": "mD7x0VBZRtOV",
        "outputId": "40d1e14b-20bd-4d8a-da11-8f97f45b0d53"
      },
      "execution_count": null,
      "outputs": [
        {
          "output_type": "stream",
          "name": "stdout",
          "text": [
            "Python is awesome\n"
          ]
        }
      ]
    },
    {
      "cell_type": "markdown",
      "source": [
        "In the print() function, you output multiple variables, separated by a comma:"
      ],
      "metadata": {
        "id": "ZJ-VFypaSKfN"
      }
    },
    {
      "cell_type": "code",
      "source": [
        "x = \"Python\"\n",
        "y = \"is\"\n",
        "z = \"awesome\"\n",
        "print(x, y, z)"
      ],
      "metadata": {
        "colab": {
          "base_uri": "https://localhost:8080/"
        },
        "id": "kMdbbU9PSFdK",
        "outputId": "1c12337c-bf7f-4e10-adfc-b721d60cba71"
      },
      "execution_count": null,
      "outputs": [
        {
          "output_type": "stream",
          "name": "stdout",
          "text": [
            "Python is awesome\n"
          ]
        }
      ]
    },
    {
      "cell_type": "markdown",
      "source": [
        "You can also use the + operator to output multiple variables:\n",
        "\n",
        "Example:"
      ],
      "metadata": {
        "id": "WC2LkTl6SXhw"
      }
    },
    {
      "cell_type": "code",
      "source": [
        "x = \"Python \"\n",
        "y = \"is \"\n",
        "z = \"awesome\"\n",
        "print(x + y + z)"
      ],
      "metadata": {
        "colab": {
          "base_uri": "https://localhost:8080/"
        },
        "id": "A9GArahPSN7h",
        "outputId": "287c2ba1-9f3c-4626-9777-993caa4e5a65"
      },
      "execution_count": null,
      "outputs": [
        {
          "output_type": "stream",
          "name": "stdout",
          "text": [
            "Python is awesome\n"
          ]
        }
      ]
    },
    {
      "cell_type": "markdown",
      "source": [
        "Notice the space character after \"Python \" and \"is \", without them the result would be \"Pythonisawesome\"."
      ],
      "metadata": {
        "id": "c7WRKzdkSimD"
      }
    },
    {
      "cell_type": "markdown",
      "source": [
        "For numbers, the + character works as a mathematical operator:\n",
        "\n",
        "Example:\n"
      ],
      "metadata": {
        "id": "INI7FmJSS7jG"
      }
    },
    {
      "cell_type": "code",
      "source": [
        "x = 5\n",
        "y = 10\n",
        "print(x + y)"
      ],
      "metadata": {
        "colab": {
          "base_uri": "https://localhost:8080/"
        },
        "id": "GWj2vgGlTDIh",
        "outputId": "355b33a3-72c5-4f7c-f956-ecb21f7afca3"
      },
      "execution_count": null,
      "outputs": [
        {
          "output_type": "stream",
          "name": "stdout",
          "text": [
            "15\n"
          ]
        }
      ]
    },
    {
      "cell_type": "markdown",
      "source": [
        "In the print() function, when you try to combine a string and a number with the + operator, Python will give you an error:\n",
        "\n",
        "Example"
      ],
      "metadata": {
        "id": "kYl4qxw5TIqa"
      }
    },
    {
      "cell_type": "code",
      "source": [
        "x = 5\n",
        "y = \"John\"\n",
        "print(x + y)"
      ],
      "metadata": {
        "colab": {
          "base_uri": "https://localhost:8080/",
          "height": 180
        },
        "id": "tqFNFbK0TD41",
        "outputId": "84603c32-8c3f-4a56-e3ef-87b71adfeb87"
      },
      "execution_count": null,
      "outputs": [
        {
          "output_type": "error",
          "ename": "TypeError",
          "evalue": "unsupported operand type(s) for +: 'int' and 'str'",
          "traceback": [
            "\u001b[0;31m---------------------------------------------------------------------------\u001b[0m",
            "\u001b[0;31mTypeError\u001b[0m                                 Traceback (most recent call last)",
            "\u001b[0;32m<ipython-input-30-00c66e4310ff>\u001b[0m in \u001b[0;36m<cell line: 3>\u001b[0;34m()\u001b[0m\n\u001b[1;32m      1\u001b[0m \u001b[0mx\u001b[0m \u001b[0;34m=\u001b[0m \u001b[0;36m5\u001b[0m\u001b[0;34m\u001b[0m\u001b[0;34m\u001b[0m\u001b[0m\n\u001b[1;32m      2\u001b[0m \u001b[0my\u001b[0m \u001b[0;34m=\u001b[0m \u001b[0;34m\"John\"\u001b[0m\u001b[0;34m\u001b[0m\u001b[0;34m\u001b[0m\u001b[0m\n\u001b[0;32m----> 3\u001b[0;31m \u001b[0mprint\u001b[0m\u001b[0;34m(\u001b[0m\u001b[0mx\u001b[0m \u001b[0;34m+\u001b[0m \u001b[0my\u001b[0m\u001b[0;34m)\u001b[0m\u001b[0;34m\u001b[0m\u001b[0;34m\u001b[0m\u001b[0m\n\u001b[0m",
            "\u001b[0;31mTypeError\u001b[0m: unsupported operand type(s) for +: 'int' and 'str'"
          ]
        }
      ]
    },
    {
      "cell_type": "markdown",
      "source": [
        "The best way to output multiple variables in the print() function is to separate them with commas, which even support different data types:\n",
        "\n",
        "Example"
      ],
      "metadata": {
        "id": "qLUNLpxgTad6"
      }
    },
    {
      "cell_type": "code",
      "source": [
        "x = 5\n",
        "y = \"John\"\n",
        "print(x, y)"
      ],
      "metadata": {
        "colab": {
          "base_uri": "https://localhost:8080/"
        },
        "id": "Y-5wjVYzTNmu",
        "outputId": "61715e44-3b4f-472c-c535-e0eef96981fb"
      },
      "execution_count": null,
      "outputs": [
        {
          "output_type": "stream",
          "name": "stdout",
          "text": [
            "5 John\n"
          ]
        }
      ]
    },
    {
      "cell_type": "markdown",
      "source": [
        "# **Python-Global Variables**\n",
        "\n",
        "Variables that are created outside of a function (as in all of the examples above) are known as global variables.\n",
        "\n",
        "Global variables can be used by everyone, both inside of functions and outside.\n",
        "\n",
        "Example:\n",
        "\n",
        "Create a variable outside of a function, and use it inside the function"
      ],
      "metadata": {
        "id": "Q5e6NqQGUYVs"
      }
    },
    {
      "cell_type": "code",
      "source": [
        "x = \"awesome\"\n",
        "\n",
        "def myfunc():\n",
        "  print(\"Python is \" + x)\n",
        "\n",
        "myfunc()"
      ],
      "metadata": {
        "colab": {
          "base_uri": "https://localhost:8080/"
        },
        "id": "qt9XoQhSTgG8",
        "outputId": "aa5e7b7f-5c28-440e-f69e-f2519f4085ad"
      },
      "execution_count": null,
      "outputs": [
        {
          "output_type": "stream",
          "name": "stdout",
          "text": [
            "Python is awesome\n"
          ]
        }
      ]
    },
    {
      "cell_type": "markdown",
      "source": [
        "If you create a variable with the same name inside a function, this variable will be local, and can only be used inside the function. The global variable with the same name will remain as it was, global and with the original value.\n",
        "\n",
        "Example:\n",
        "\n",
        "Create a variable inside a function, with the same name as the global variable"
      ],
      "metadata": {
        "id": "zz2Dfzh7UrRe"
      }
    },
    {
      "cell_type": "code",
      "source": [
        "x = \"awesome\"\n",
        "\n",
        "def myfunc():\n",
        "  x = \"fantastic\"\n",
        "  print(\"Python is \" + x)\n",
        "\n",
        "myfunc()\n",
        "\n",
        "print(\"Python is \" + x)"
      ],
      "metadata": {
        "colab": {
          "base_uri": "https://localhost:8080/"
        },
        "id": "D-hR1HnAUwai",
        "outputId": "39ad9dde-ddb2-46e5-cd3a-9e6aee4fae2d"
      },
      "execution_count": null,
      "outputs": [
        {
          "output_type": "stream",
          "name": "stdout",
          "text": [
            "Python is fantastic\n",
            "Python is awesome\n"
          ]
        }
      ]
    },
    {
      "cell_type": "markdown",
      "source": [
        "**The global Keyword**\n",
        "\n",
        "Normally, when you create a variable inside a function, that variable is local, and can only be used inside that function.\n",
        "\n",
        "To create a global variable inside a function, you can use the global keyword.\n",
        "\n",
        "Example\n",
        "If you use the global keyword, the variable belongs to the global scope:"
      ],
      "metadata": {
        "id": "v74xF2ONd4BO"
      }
    },
    {
      "cell_type": "code",
      "source": [
        "def myfunc():\n",
        "  global x\n",
        "  x = \"fantastic\"\n",
        "\n",
        "myfunc()\n",
        "\n",
        "print(\"Python is \" + x)"
      ],
      "metadata": {
        "colab": {
          "base_uri": "https://localhost:8080/"
        },
        "id": "fQfRcRbGd8be",
        "outputId": "a148cded-ec05-442b-b122-353a82079dd9"
      },
      "execution_count": null,
      "outputs": [
        {
          "output_type": "stream",
          "name": "stdout",
          "text": [
            "Python is fantastic\n"
          ]
        }
      ]
    },
    {
      "cell_type": "markdown",
      "source": [
        "Also, use the global keyword if you want to change a global variable inside a function.\n",
        "\n",
        "Example\n",
        "To change the value of a global variable inside a function, refer to the variable by using the global keyword:\n"
      ],
      "metadata": {
        "id": "U-yD6xakeDtn"
      }
    },
    {
      "cell_type": "code",
      "source": [
        "x = \"awesome\"\n",
        "\n",
        "def myfunc():\n",
        "  global x\n",
        "  x = \"fantastic\"\n",
        "\n",
        "myfunc()\n",
        "\n",
        "print(\"Python is \" + x)"
      ],
      "metadata": {
        "colab": {
          "base_uri": "https://localhost:8080/"
        },
        "id": "jlHOHFf4eGTn",
        "outputId": "3300f3c4-02c8-4a96-8ff5-ffb19e032ce1"
      },
      "execution_count": null,
      "outputs": [
        {
          "output_type": "stream",
          "name": "stdout",
          "text": [
            "Python is fantastic\n"
          ]
        }
      ]
    },
    {
      "cell_type": "markdown",
      "source": [
        "Whenever you are done in the python command line, you can simply type the following to quit the python command line interface:\n"
      ],
      "metadata": {
        "id": "yiMhrPMP5Gos"
      }
    },
    {
      "cell_type": "code",
      "source": [],
      "metadata": {
        "id": "S5nFSlSu5KI8"
      },
      "execution_count": null,
      "outputs": []
    },
    {
      "cell_type": "markdown",
      "source": [
        "# **Exercises**\n",
        "\n",
        "---\n",
        "\n"
      ],
      "metadata": {
        "id": "gU_bGqZKfp6-"
      }
    },
    {
      "cell_type": "markdown",
      "source": [
        "Insert the missing part of the code below to output \"Hello World\".\n",
        "\n",
        "(\"Hello World\")\n",
        "\n",
        "\n",
        "Answer:\n",
        "print(\"Hello World\")\n"
      ],
      "metadata": {
        "id": "1cy0h3XUz4Mo"
      }
    },
    {
      "cell_type": "markdown",
      "source": [
        "# **Comments-Exercise1:**\n",
        "\n",
        "Comments in Python are written with a special character, which one?\n",
        "\n",
        "❓This is a comment\n",
        "\n",
        "✅ **Answer:**\n",
        "#This is a comment\n",
        "\n"
      ],
      "metadata": {
        "id": "xWYf29YHZ2g9"
      }
    },
    {
      "cell_type": "markdown",
      "source": [],
      "metadata": {
        "id": "zkJbNIIJd_-p"
      }
    },
    {
      "cell_type": "markdown",
      "source": [
        "# **Comments-Exercise2:**\n",
        "\n",
        "Use a multiline string to make the a multiline comment:\n",
        "\n",
        "\n",
        "❓\n",
        "\n",
        "This is a comment\n",
        "\n",
        "written in\n",
        "\n",
        "more than just one line\n",
        "\n",
        "❓\n",
        "\n",
        "**Answer: **\n",
        "\n",
        "\"\"\"\n",
        "\n",
        "This is a comment\n",
        "\n",
        "written in\n",
        "\n",
        "more than just one line\n",
        "\n",
        "\"\"\"\n",
        "\n"
      ],
      "metadata": {
        "id": "y3k1NnNCaKKO"
      }
    },
    {
      "cell_type": "markdown",
      "source": [
        "# **Variable-Exercise1:**\n",
        "\n",
        "Create a variable named carname and assign the value Volvo to it.\n",
        "\n",
        "\n",
        " ❓ = \" ❓ \""
      ],
      "metadata": {
        "id": "PYMM0a71aXkC"
      }
    },
    {
      "cell_type": "markdown",
      "source": [
        "# **Variable-Exercise2:**\n",
        "Create a variable named x and assign the value 50 to it.\n",
        "\n",
        "Answer: x = 50"
      ],
      "metadata": {
        "id": "8TOYcjswa7Ic"
      }
    },
    {
      "cell_type": "markdown",
      "source": [
        "Exercise:\n",
        "Display the sum of 5 + 10, using two variables: x and y.\n",
        "\n",
        "Answer:\n",
        " =\n",
        "y = 10\n",
        "print(x y)"
      ],
      "metadata": {
        "id": "3W7zACmMbvNT"
      }
    },
    {
      "cell_type": "markdown",
      "source": [
        "# **Variable-Exercise3:**\n",
        "\n",
        "Create a variable called z, assign x + y to it, and display the result.\n",
        "\n",
        "\n",
        "x = 5\n",
        "y = 10\n",
        " = x + y\n",
        "print()"
      ],
      "metadata": {
        "id": "6C7IRd6kcHJK"
      }
    },
    {
      "cell_type": "markdown",
      "source": [
        "# **Variable-Exercise4:**\n",
        "\n",
        "Insert the correct syntax to assign values to multiple variables in one line:\n",
        "\n",
        "\n",
        "x, y, z = \"Orange\", \"Banana\", \"Cherry\""
      ],
      "metadata": {
        "id": "H-fzXtczcXZx"
      }
    },
    {
      "cell_type": "markdown",
      "source": [
        "# **Variable_Exercise5:**\n",
        "\n",
        "Insert the correct syntax to assign the same value to all three variables in one code line.\n",
        "\n",
        "x **bold text**= y = z = \"Orange\"\n"
      ],
      "metadata": {
        "id": "Wxb5FdFycsNu"
      }
    },
    {
      "cell_type": "markdown",
      "source": [
        "# **Variable-Exercise6:**\n",
        "\n",
        "Insert the correct keyword to make the variable x belong to the global scope.\n",
        "\n",
        "\n",
        "def myfunc():\n",
        " x\n",
        " x = \"fantastic\""
      ],
      "metadata": {
        "id": "D5g6LGOudFPU"
      }
    }
  ]
}